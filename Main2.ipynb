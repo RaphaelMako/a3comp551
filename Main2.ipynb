{
 "cells": [
  {
   "cell_type": "markdown",
   "metadata": {},
   "source": [
    "# Notebook settings"
   ]
  },
  {
   "cell_type": "markdown",
   "metadata": {},
   "source": [
    "### Don't change these parameters :0"
   ]
  },
  {
   "cell_type": "code",
   "execution_count": 1,
   "metadata": {},
   "outputs": [],
   "source": [
    "''' These parameters should not be changed!!!'''\n",
    "\n",
    "# check device\n",
    "import torch\n",
    "DEVICE = 'cuda' if torch.cuda.is_available() else 'cpu'\n",
    "\n",
    "# pytorch weight initialization seed\n",
    "RANDOM_SEED = 42\n",
    "\n",
    "# model-specific image sizes\n",
    "LENET5_IMG_SIZE = 32"
   ]
  },
  {
   "cell_type": "markdown",
   "metadata": {},
   "source": [
    "### These parameters can be tampered with"
   ]
  },
  {
   "cell_type": "code",
   "execution_count": 2,
   "metadata": {},
   "outputs": [],
   "source": [
    "'''These parameters can potentially be changed...'''\n",
    "\n",
    "LEARNING_RATE = 0.001\n",
    "BATCH_SIZE = 32\n",
    "N_EPOCHS = 15\n",
    "N_CLASSES = 10"
   ]
  },
  {
   "cell_type": "markdown",
   "metadata": {},
   "source": [
    "### Helper Functions"
   ]
  },
  {
   "cell_type": "code",
   "execution_count": 3,
   "metadata": {},
   "outputs": [],
   "source": [
    "def get_dataloaders(X, y, validation_split_index):\n",
    "    '''Gets the training and validation dataloaders for a given dataset by using an index to split into training and validation.'''\n",
    "    # get partitioned training and validation numpy arrays from the dataset\n",
    "    x_train, x_val = data.split_train_and_val(X, validation_split_index)\n",
    "    y_train, y_val = data.split_train_and_val(y, validation_split_index)\n",
    "\n",
    "    # Make tensors out of the numpy arrays\n",
    "    x_train, y_train, x_val, y_val = map(torch.tensor, (x_train, y_train, x_val, y_val))\n",
    "\n",
    "    # Make TensorDatasets\n",
    "    from torch.utils.data import TensorDataset\n",
    "    train_ds = TensorDataset(x_train, y_train)\n",
    "    val_ds = TensorDataset(x_val, y_val)\n",
    "\n",
    "    # Make DataLoaders\n",
    "    from torch.utils.data import DataLoader\n",
    "    train_dl = DataLoader(train_ds, batch_size=BATCH_SIZE)\n",
    "    val_dl = DataLoader(val_ds, batch_size=BATCH_SIZE)\n",
    "\n",
    "    # return training and validation dataloaders :)\n",
    "    return train_dl, val_dl\n",
    "\n",
    "def downsample(batch, size=32):\n",
    "    '''Downsamples the data to fit model requirements. I couldn't find a way around this that worked effectively...'''\n",
    "    batch = batch.view(-1, 1, 56, 56) # Resize input to make it square\n",
    "    downsample = nn.AdaptiveAvgPool2d(size) # Define a downsampling function\n",
    "    batch = downsample(batch) # Downsample the batch's image data\n",
    "    return batch\n"
   ]
  },
  {
   "cell_type": "markdown",
   "metadata": {},
   "source": [
    "# Semi-supervised learning\n",
    "We try and initialize the model weights by first training it on a different task: predicting image rotations on the unlabeled dataset that was given to us."
   ]
  },
  {
   "cell_type": "markdown",
   "metadata": {},
   "source": [
    "### Load Unlabeled Data\n",
    "The 30,000 unlabeled samples have each been rotated 3 times (by 90, 180, and 270 degreeses respectively,) and merged into an array of 120,000 images and an array of 120,000 rotation labels (0, 1, 2, 3 corresponding to each rotation.)"
   ]
  },
  {
   "cell_type": "code",
   "execution_count": 4,
   "metadata": {},
   "outputs": [],
   "source": [
    "import assignment_data as data\n",
    "\n",
    "SPLIT_INDEX = 100000 # 100,000 training and 20,000 validation\n",
    "train_dl, val_dl = get_dataloaders(data.rotated_images, data.rotated_image_labels, SPLIT_INDEX)"
   ]
  },
  {
   "cell_type": "markdown",
   "metadata": {},
   "source": [
    "### Train LeNet5 on the Image Rotation Task"
   ]
  },
  {
   "cell_type": "code",
   "execution_count": 5,
   "metadata": {},
   "outputs": [
    {
     "name": "stdout",
     "output_type": "stream",
     "text": [
      "23:11:16 --- Epoch: 0\tTrain loss: 1.0465\tValid loss: 0.9910\tTrain accuracy: 50.33\tValid accuracy: 49.45\n"
     ]
    },
    {
     "name": "stderr",
     "output_type": "stream",
     "text": [
      "c:\\Users\\dodob\\OneDrive\\Desktop\\ML\\a3comp551\\sams_plotting.py:39: UserWarning: Matplotlib is currently using module://matplotlib_inline.backend_inline, which is a non-GUI backend, so cannot show the figure.\n",
      "  fig.show()\n"
     ]
    },
    {
     "data": {
      "image/png": "[encoded data removed]",
      "text/plain": [
       "<Figure size 576x324 with 1 Axes>"
      ]
     },
     "metadata": {},
     "output_type": "display_data"
    }
   ],
   "source": [
    "from model_definitions import LeNet5\n",
    "from torch import nn\n",
    "from model_training import training_loop\n",
    "import assignment_data as data\n",
    "\n",
    "LEARNING_RATE = 0.001\n",
    "BATCH_SIZE = 64\n",
    "N_EPOCHS = 7\n",
    "N_CLASSES = 4\n",
    "lenet5 = LeNet5(N_CLASSES, preprocess=downsample) # Load LeNet architecture\n",
    "optimizer = torch.optim.Adam(lenet5.parameters(), lr=LEARNING_RATE) # Load optimizer\n",
    "criterion = nn.CrossEntropyLoss() # Specifiy loss function\n",
    "model, optimizer, _ = training_loop(lenet5, criterion, optimizer, train_dl, val_dl, N_EPOCHS, DEVICE)"
   ]
  },
  {
   "cell_type": "markdown",
   "metadata": {},
   "source": [
    "### Load Labeled Data\n",
    "This data is used to train the network on our specific task of classifying images by number-letter combination."
   ]
  },
  {
   "cell_type": "code",
   "execution_count": 14,
   "metadata": {},
   "outputs": [],
   "source": [
    "SPLIT_INDEX = 25000 # 25,000 training and 5,000 validation\n",
    "train_dl, val_dl = get_dataloaders(data.labeled_images, data.integer_labels(), SPLIT_INDEX)"
   ]
  },
  {
   "cell_type": "markdown",
   "metadata": {},
   "source": [
    "### Train LeNet5 on the Assigned Task"
   ]
  },
  {
   "cell_type": "code",
   "execution_count": 15,
   "metadata": {},
   "outputs": [
    {
     "name": "stdout",
     "output_type": "stream",
     "text": [
      "23:15:08 --- Epoch: 0\tTrain loss: 5.5210\tValid loss: 5.4869\tTrain accuracy: 1.13\tValid accuracy: 0.76\n"
     ]
    },
    {
     "name": "stderr",
     "output_type": "stream",
     "text": [
      "c:\\Users\\dodob\\OneDrive\\Desktop\\ML\\a3comp551\\sams_plotting.py:39: UserWarning: Matplotlib is currently using module://matplotlib_inline.backend_inline, which is a non-GUI backend, so cannot show the figure.\n",
      "  fig.show()\n"
     ]
    },
    {
     "data": {
      "image/png": "[encoded data removed]",
      "text/plain": [
       "<Figure size 800x450 with 1 Axes>"
      ]
     },
     "metadata": {},
     "output_type": "display_data"
    }
   ],
   "source": [
    "LEARNING_RATE = 0.001\n",
    "BATCH_SIZE = 64\n",
    "N_EPOCHS = 50\n",
    "N_CLASSES = 260\n",
    "\n",
    "# Chop the head off from the classifier (change number of output classes but keep the feature extractor)\n",
    "from torch import nn\n",
    "lenet5.classifier = nn.Sequential(\n",
    "            nn.Linear(in_features=120, out_features=84),\n",
    "            nn.Tanh(),\n",
    "            nn.Linear(in_features=84, out_features=260),\n",
    "        )\n",
    "model, optimizer, _ = training_loop(lenet5, criterion, optimizer, train_dl, val_dl, N_EPOCHS, DEVICE)"
   ]
  }
 ],
 "metadata": {
  "interpreter": {
   "hash": "63fd5069d213b44bf678585dea6b12cceca9941eaf7f819626cde1f2670de90d"
  },
  "kernelspec": {
   "display_name": "Python 3.9.7 64-bit",
   "language": "python",
   "name": "python3"
  },
  "language_info": {
   "codemirror_mode": {
    "name": "ipython",
    "version": 3
   },
   "file_extension": ".py",
   "mimetype": "text/x-python",
   "name": "python",
   "nbconvert_exporter": "python",
   "pygments_lexer": "ipython3",
   "version": "3.9.7"
  },
  "orig_nbformat": 4
 },
 "nbformat": 4,
 "nbformat_minor": 2
}
