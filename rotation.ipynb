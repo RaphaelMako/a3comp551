{
 "cells": [
  {
   "cell_type": "code",
   "execution_count": 2,
   "metadata": {},
   "outputs": [],
   "source": [
    "import numpy as np\n",
    "import pickle\n",
    "\n",
    "import torch\n",
    "import torch.nn as nn\n",
    "import torch.nn.functional as F\n",
    "import torch.optim as optim\n"
   ]
  },
  {
   "cell_type": "code",
   "execution_count": 38,
   "metadata": {},
   "outputs": [
    {
     "name": "stdout",
     "output_type": "stream",
     "text": [
      "(30000, 56, 56)\n",
      "[0. 0. 0. 0. 0. 0. 0. 0. 0. 1. 0. 0. 0. 0. 1. 0. 0. 0. 0. 0. 0. 0. 0. 0.\n",
      " 0. 0. 0. 0. 0. 0. 0. 0. 0. 0. 0. 0.]\n"
     ]
    }
   ],
   "source": [
    "with open(\"data/images_l.pkl\", 'rb') as f:\n",
    "    labeled_images = pickle.load(f)\n",
    "with open(\"data/labels_l.pkl\", 'rb') as f:\n",
    "    labels = pickle.load(f)\n",
    "with open(\"data/images_ul.pkl\", 'rb') as f:\n",
    "    unlabeled_images = pickle.load(f)\n",
    "with open(\"data/images_test.pkl\", 'rb') as f:\n",
    "    images_test = pickle.load(f)\n",
    "\n",
    "print(np.shape(labeled_images))"
   ]
  },
  {
   "cell_type": "code",
   "execution_count": 28,
   "metadata": {},
   "outputs": [],
   "source": [
    "import matplotlib.pyplot as plt # Plotting utils\n",
    "from mpl_toolkits.axes_grid1 import ImageGrid # More plotting...\n",
    "import numpy as np; import math # Numpy and math\n",
    "\n",
    "# Plots a single row of images\n",
    "def __plot_image_row(data):\n",
    "    num_plots = data.shape[0]\n",
    "    fig = plt.figure(figsize=(num_plots, 10.*num_plots))\n",
    "    grid = ImageGrid(fig, 111, nrows_ncols=(1, num_plots), axes_pad=0.1)\n",
    "    for i in range(num_plots):\n",
    "        grid[i].imshow(data[i].reshape((56, 56)))\n",
    "    plt.show()\n",
    "\n",
    "# Plots a series of rows of images given a range\n",
    "def plot_images(data, total_digit_range = None, row_size = 10):\n",
    "    if (total_digit_range == None): total_digit_range = range(0, len(data))\n",
    "    num_rows =  math.ceil(total_digit_range.stop / row_size)\n",
    "    rows = [i * row_size for i in range(0, num_rows)]\n",
    "    rows = [range(max(total_digit_range.start, start), min(start + row_size, total_digit_range.stop)) for start in rows]\n",
    "    for row in rows: __plot_image_row(np.array([data[i] for i in row]))"
   ]
  },
  {
   "cell_type": "code",
   "execution_count": 71,
   "metadata": {},
   "outputs": [],
   "source": [
    "import random\n",
    "\n",
    "labeled_images_rot = []\n",
    "labels_rot = []\n",
    "count = 0\n",
    "for x in labeled_images:\n",
    "    labels_rot += [count]\n",
    "    labels_rot += [count]\n",
    "    labels_rot += [count]\n",
    "    labels_rot += [count]\n",
    "    labeled_images_rot += [x]\n",
    "    labeled_images_rot += [np.rot90(x)]\n",
    "    labeled_images_rot += [np.rot90(x, 2)]\n",
    "    labeled_images_rot += [np.rot90(x, 3)]\n",
    "    count += 1\n",
    "\n",
    "randomized_images = list(zip(labeled_images_rot, labels_rot))\n",
    "random.shuffle(randomized_images)\n",
    "labeled_images_rot, labels_rot = zip(*randomized_images)\n",
    "\n"
   ]
  },
  {
   "cell_type": "markdown",
   "metadata": {},
   "source": [
    "Matrix rotation\n",
    "first is just a temporary rotation"
   ]
  },
  {
   "cell_type": "code",
   "execution_count": 73,
   "metadata": {},
   "outputs": [
    {
     "data": {
      "image/png": "[encoded data removed]",
      "text/plain": [
       "<Figure size 432x288 with 1 Axes>"
      ]
     },
     "metadata": {
      "needs_background": "light"
     },
     "output_type": "display_data"
    }
   ],
   "source": [
    "fig = plt.figure\n",
    "plt.imshow(labeled_images_rot[0], cmap='gray')\n",
    "plt.show()"
   ]
  }
 ],
 "metadata": {
  "interpreter": {
   "hash": "aee8b7b246df8f9039afb4144a1f6fd8d2ca17a180786b69acc140d282b71a49"
  },
  "kernelspec": {
   "display_name": "Python 3.9.1 64-bit",
   "language": "python",
   "name": "python3"
  },
  "language_info": {
   "codemirror_mode": {
    "name": "ipython",
    "version": 3
   },
   "file_extension": ".py",
   "mimetype": "text/x-python",
   "name": "python",
   "nbconvert_exporter": "python",
   "pygments_lexer": "ipython3",
   "version": "3.9.1"
  },
  "orig_nbformat": 4
 },
 "nbformat": 4,
 "nbformat_minor": 2
}
